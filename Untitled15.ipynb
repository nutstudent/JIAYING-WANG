{
 "cells": [
  {
   "cell_type": "markdown",
   "metadata": {},
   "source": [
    "### Selection Sort"
   ]
  },
  {
   "cell_type": "code",
   "execution_count": 1,
   "metadata": {},
   "outputs": [
    {
     "name": "stdout",
     "output_type": "stream",
     "text": [
      "[0, 2, 3, 4, 5, 7]\n"
     ]
    }
   ],
   "source": [
    "#selection Sort\n",
    "def selection_sort(nums):\n",
    "    for i in range(len(nums)):\n",
    "        min_temp = i\n",
    "        for j in range(i+1,len(nums)):\n",
    "            if nums[j] < nums[min_temp]:\n",
    "                min_temp = j\n",
    "        nums[i],nums[min_temp] = nums[min_temp],nums[i]\n",
    "    return nums\n",
    "\n",
    "ls = [2,7,4,5,0,3]\n",
    "print(selection_sort(ls))"
   ]
  },
  {
   "cell_type": "markdown",
   "metadata": {},
   "source": [
    "### Binary Search"
   ]
  },
  {
   "cell_type": "code",
   "execution_count": 14,
   "metadata": {},
   "outputs": [
    {
     "name": "stdout",
     "output_type": "stream",
     "text": [
      "3\n",
      "4\n",
      "1\n",
      "0\n",
      "3\n",
      "2\n"
     ]
    }
   ],
   "source": [
    "def bi_search(ls,target):\n",
    "    left, right = 0,len(ls)-1\n",
    "    while left <= right:\n",
    "        middle = (left + right)//2\n",
    "        if ls[middle] == target:\n",
    "            return middle\n",
    "        elif ls[middle]< target:\n",
    "            left = middle + 1\n",
    "        else:\n",
    "            right = middle - 1\n",
    "\n",
    "ls2 = [1,2,3,4,5,6,7]\n",
    "ls3 = [1,2,3,4,5,6]\n",
    "print(bi_search(ls2,4))\n",
    "print(bi_search(ls2,5))\n",
    "print(bi_search(ls2,2))\n",
    "print(bi_search(ls2,1))\n",
    "print(bi_search(ls3,4))\n",
    "print(bi_search(ls3,3))"
   ]
  },
  {
   "cell_type": "markdown",
   "metadata": {},
   "source": [
    "### Recursion"
   ]
  },
  {
   "cell_type": "code",
   "execution_count": 19,
   "metadata": {},
   "outputs": [
    {
     "data": {
      "text/plain": [
       "21"
      ]
     },
     "execution_count": 19,
     "metadata": {},
     "output_type": "execute_result"
    }
   ],
   "source": [
    "def fib(n):\n",
    "    if n == 0:\n",
    "        return 0\n",
    "    elif n == 1:\n",
    "        return 1\n",
    "    else:\n",
    "        return fib(n-1) + fib(n-2)\n",
    "\n",
    "fib(5)\n",
    "fib(8)"
   ]
  },
  {
   "cell_type": "markdown",
   "metadata": {},
   "source": [
    "### String"
   ]
  },
  {
   "cell_type": "code",
   "execution_count": 26,
   "metadata": {},
   "outputs": [
    {
     "data": {
      "text/plain": [
       "'abcbc'"
      ]
     },
     "execution_count": 26,
     "metadata": {},
     "output_type": "execute_result"
    }
   ],
   "source": [
    "def remove_char(string,char):\n",
    "    string = list(string)\n",
    "    i = 0\n",
    "    for j in range(len(string)):\n",
    "        if string[j] == char:\n",
    "            i = j\n",
    "        else:\n",
    "            string[i],string[j] = string[j],string[i]\n",
    "    return ''.join(string)\n",
    "remove_char('abbcc','b')\n",
    "                   "
   ]
  },
  {
   "cell_type": "code",
   "execution_count": 20,
   "metadata": {},
   "outputs": [
    {
     "data": {
      "text/plain": [
       "'bsssaaa'"
      ]
     },
     "execution_count": 20,
     "metadata": {},
     "output_type": "execute_result"
    }
   ],
   "source": [
    "### remove duplicate and adjacent letters in string\n",
    "def dup_remove(s):\n",
    "    if not s:\n",
    "        return s\n",
    "    s = list(s)\n",
    "    i = 0\n",
    "    for j in range(1,len(s)):\n",
    "        if s[j] != s[i]:\n",
    "            s[i] = s[j]\n",
    "            i += 1\n",
    "    return ''.joint(s[:i])         "
   ]
  },
  {
   "cell_type": "markdown",
   "metadata": {},
   "source": [
    "### Given a sorted list, find the closest number index which closest to the target"
   ]
  },
  {
   "cell_type": "code",
   "execution_count": null,
   "metadata": {},
   "outputs": [],
   "source": [
    "def bi_search_2(ls,target):\n",
    "    left, right = 0,len(ls)-1\n",
    "    while left <= right:\n",
    "        middle = (left + right)//2\n",
    "        if ls[middle] == target:\n",
    "            return middle\n",
    "        elif ls[middle]< target:\n",
    "            left = middle + 1\n",
    "        else:\n",
    "            right = middle - 1"
   ]
  },
  {
   "cell_type": "code",
   "execution_count": null,
   "metadata": {},
   "outputs": [],
   "source": []
  },
  {
   "cell_type": "code",
   "execution_count": null,
   "metadata": {},
   "outputs": [],
   "source": []
  },
  {
   "cell_type": "code",
   "execution_count": null,
   "metadata": {},
   "outputs": [],
   "source": []
  }
 ],
 "metadata": {
  "kernelspec": {
   "display_name": "Python 3",
   "language": "python",
   "name": "python3"
  },
  "language_info": {
   "codemirror_mode": {
    "name": "ipython",
    "version": 3
   },
   "file_extension": ".py",
   "mimetype": "text/x-python",
   "name": "python",
   "nbconvert_exporter": "python",
   "pygments_lexer": "ipython3",
   "version": "3.6.8"
  },
  "toc": {
   "base_numbering": 1,
   "nav_menu": {},
   "number_sections": true,
   "sideBar": true,
   "skip_h1_title": false,
   "title_cell": "Table of Contents",
   "title_sidebar": "Contents",
   "toc_cell": false,
   "toc_position": {},
   "toc_section_display": true,
   "toc_window_display": false
  }
 },
 "nbformat": 4,
 "nbformat_minor": 2
}
